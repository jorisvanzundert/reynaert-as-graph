{
 "cells": [
  {
   "cell_type": "markdown",
   "metadata": {
    "collapsed": true
   },
   "source": [
    "## Chapter 4 — How does one OO model a text?\n",
    "\n",
    "Quite frankly only now comes the hard part. We have a base text, but now what. What does it mean to slow program it, to close read it through code, or to read it as code? I am not sure at all. I think I'll just take a deep breath and dive in…\n",
    "\n",
    "The first word of our text is \"Willem\". What would close reading that word mean? I guess at least establishing all that is known about in a scholarly context. The word is a name. That is a linguistic observation we might want to note. It is a Dutch name, the quivalent of William. Because it is a name the [Nederlandse Voornamenbank](https://www.meertens.knaw.nl/nvb/) of the [Meertens Institute](https://www.meertens.knaw.nl) has some general onomstic knowledge on it. For instance that it is derived from [Wilhelm](https://www.meertens.knaw.nl/nvb/verklaring/naam/Willem) and thus shares it [roots](https://www.meertens.knaw.nl/nvb/verklaring/naam/Wilhelm). Should this knowldege be modeled in? Strictly speaking the onomastics of \"Willem\" are from a scholarly point of view less interesting than the fact that the person of that very name was the author of the text and what we might know of that author. But what is known about Willem the author? We find ample information (and at the same time very little, because very little is factually known about Willem) in the editon of the Reynaert made by Frank Lulofs (<a href=\"#bibref_001\" name=\"backref_bibref_001\" id=\"backref_bibref_001\">1983</a>).\n",
    "\n",
    "Lulofs contends that Willem has been a professional writer (<a href=\"#bibref_001\" name=\"backref_bibref_001\" id=\"backref_bibref_001\">1983</a>:44), because the following words are \"die Madoc maecte\". Madoc is probably another work (that now is lost and unknown to us) and we may read this as Willem advertising his professional capabilities. We do, however, have to factor in the possibility that Willem is being ironic (<a href=\"#bibref_001\" name=\"backref_bibref_001\" id=\"backref_bibref_001\">1983</a>:49). A way to read the Reynaert is as a play of words and rhetoric in the most ironic possible sense: turning tropes, conventions, and the trust put in words into weapons to criticize human behavior, including their abuse of words to their own advantage. Willem might have meant his prologue as an ironic play on rhetorical conventions of the prologue (<a href=\"#bibref_001\" name=\"backref_bibref_001\" id=\"backref_bibref_001\">1983</a>:197). Given his command of the French Renard tradition Willem must have been \"well-educated and widely read\", he \"was familiar with Old French beast narratives, which provided material and inspiration, and was well-informed about legal procedures. He may have been a monk with considerable experience in worldly affairs\", and the poem’s language shows that Willem came from East Flanders\" (<a href=\"#bibref_002\" name=\"backref_bibref_002\" id=\"backref_bibref_002\">Bouwman &amp; Besamusca 2009</a>:15). Willem is clearly familiar with Ghent and the country to the North East stretching towards Antwerp, the Waesland where the story is located; yet other geographical locations in the now Netherlands are also mentioned (<a href=\"#bibref_001\" name=\"backref_bibref_001\" id=\"backref_bibref_001\">Lulofs 1983</a>:45).\n",
    "\n",
    "So that body of knowledge at least (but potentially a lot more, this notebook is not an exercise in exhaustiveness) must be somehow modeled into that first word. And let's not forget that indeed we should model that it *is* indeed the first word of the text too. Oh, and while we're at it we should probably somehow represent that the first letter of the word is a large red capital in the Comburg manuscript.\n",
    "\n",
    "So, how do we do this?"
   ]
  },
  {
   "cell_type": "markdown",
   "metadata": {},
   "source": [
    "At this point my plan looks like this:\n",
    "\n",
    " 1. Read in the text.\n",
    " 2. Create a super class 'Word' that instantiates and links the individual words.\n",
    " 3. Make it possible for any word to have a meaning and a denotation (reference).\n",
    " 4. For the latter we need classes and objects for the denotation, e.g. to be a person with the name 'Willem'.\n",
    " 5. Then we can adorn this person with all kinds of annotations taken from the above.\n",
    "\n",
    "There are number of things nagging me. One is: do I keep structure information? At least I hold on to line endings, although I am not even sure why. The only reason I can come up with now is for sheer representational purposes, that is: visualizing the text in its bookish form. But of course this is an experiment to try to get away from the book metaphor. I can forget about this for now however, I can always take in more structural information later on if I need it.\n",
    "\n",
    "The other thing bothering me most is the reproducibility of the act of getting the annotative information. Ideally the application takes that information right from the source. So in this case probably from the commentary in the editions of Lulofs (<a href=\"#bibref_001\" name=\"backref_bibref_001\" id=\"backref_bibref_001\">1983</a>) and Bouwman & Besamuca (<a href=\"#bibref_002\" name=\"backref_bibref_002\" id=\"backref_bibref_002\">2009</a>). The latter at least is available and downloaded, the former has been scanned by Google, but seems to be not openly available. I guess I'll scan the pages I need as a form of citation. Then I will have to extract the parts pertaining to Willem. That in itself has its conundrums on how one would do that in any sustainable fashion. "
   ]
  },
  {
   "cell_type": "markdown",
   "metadata": {},
   "source": [
    "### References\n",
    "<small>\n",
    "\n",
    "<a href=\"#backref_bibref_002\" name=\"bibref_002\" id=\"bibref_002\">Bouwman, A. & Besamusca, B., 2009.</a> *Of Reynaert the Fox: Text and Facing Translation of the Middle Dutch Beast Epic Van den vos Reynaerde*, Amsterdam: Amsterdam University Press. Available at: http://www.oapen.org/search?identifier=340003 [Accessed November 20, 2015].\n",
    "\n",
    "<a href=\"#backref_bibref_001\" name=\"bibref_001\" id=\"bibref_001\">Lulofs, F (ed.), 1983.</a> Willem: Van den vos Reynaerde. Groningen: Wolters–Noordhoff.\n",
    "\n",
    "</small>"
   ]
  },
  {
   "cell_type": "code",
   "execution_count": null,
   "metadata": {
    "collapsed": true
   },
   "outputs": [],
   "source": []
  }
 ],
 "metadata": {
  "kernelspec": {
   "display_name": "Ruby 2.2.1",
   "language": "ruby",
   "name": "ruby"
  },
  "language_info": {
   "file_extension": ".rb",
   "mimetype": "application/x-ruby",
   "name": "ruby",
   "version": "2.3.0"
  }
 },
 "nbformat": 4,
 "nbformat_minor": 0
}
