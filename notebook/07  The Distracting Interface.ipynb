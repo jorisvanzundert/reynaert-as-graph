{
 "cells": [
  {
   "cell_type": "markdown",
   "metadata": {},
   "source": [
    "## Chapter 7 — The Distracting Interface\n",
    "\n",
    "As I (and others) have argued elsewhere (<a href=\"#bibref_001\" name=\"backref_bibref_001\" id=\"backref_bibref_001\">Van Zundert 2016.</a>, <a href=\"#backref_bibref_002\" name=\"bibref_002\" id=\"bibref_002\">Van Zundert &amp; Andrews 2016</a>) interfaces are questionable goodies. Certainly if we are trying to uncover the outlines of a new computational literacy that would serve hermeneutic purposes in the scholarly domain, then hiding the code behind several layers of interface is part of the problem rather than the solution. Yet we cannot do without interface when we are working with any (digital) computational technology. Even computer languages themselves are in fact interfaces towards underlying machine code, byte code and eventually the hardware flipflops within the microchips of computers themselves. Graphical interfaces are the top most interfaces of a stack of interfaces that stand between the user and what is actually going on inside the computer. These interfaces are not neutral lenses, they filter, transform, and adapt digital information into a form that designers, engineers, and computer scientists think are suitable to users of any or a particular kind. The point of this notebook is to argue and search for a computational literacy that allows humanities researchers to engage with text through code in a more hermeneutic fashion, focusing away a bit from the well trodden paths of big data and statistic modeling. \n",
    "\n",
    "In this respect [chapter 4](/notebooks/04%20%20Towards%20the%20OO%20Text.ipynb) of this notebook comes far more closer to what I have in mind than the currently last chapter on visualization. There we find the start of an attempt to OO model the parts of a text. If anything it is the work of that chapter that should be discussed, progressed, and elaborated, much rather than to package up the results in some visualization which in many respects is more of an end than the start of a journey.\n",
    "\n",
    "Yet, no computational humanities application feels remotely complete at this moment in time without some visualization. Hence we try to add some wow-factor in this chapter. I contend however that like authors write novels and scholars learned books, at some point New Literacy will make writing the hybrid form of code and text as found in this notebook by far complete enough. Reaching that point would indeed mean a New Literacy has taken root within humanities (or well beyond) as a new semiotic to speak of and about culture and science."
   ]
  },
  {
   "cell_type": "markdown",
   "metadata": {},
   "source": [
    "### Tool switching\n",
    "\n",
    "As the focus switches from an 'internal' object oriented modeling towards the 'external' visualization, I need to switch to a different tool set. The Jupyter Notebook at this moment (it is Wednesday June 8th of 2016 when I write this) does support Ruby, but the iRuby back end (or kernel) is not very well adapted yet to outputting anything different than text results. So it will not allow me to inject HTML, SVG or any other formats nicely fit for creating visualizations. That is why this chapter is partly written in Python. Actually only very partly, just enough to allow me to write the most part in Javascript, CSS and HTML.\n",
    "\n",
    "This note book integration code for this visualization is greatly indepted to the example for integrating technologies into Jupyter Notebooks given by [Brian Coffey and summarized by K. Hong](http://www.bogotobogo.com/python/IPython/iPython_Jupyter_Notebook_with_Embedded_D3.php). The visualization is based on the ideas of hive plots (<a href=\"#backref_bibref_003\" name=\"bibref_003\" id=\"bibref_003\">Krzywinski, M. et al., 2012</a> and the code driving the visualization is certainly indepted to the examples by Mike Bostock (https://bost.ocks.org/mike/hive/ and https://bl.ocks.org/mbostock/2066415)."
   ]
  },
  {
   "cell_type": "markdown",
   "metadata": {},
   "source": [
    "### Building the Visualization\n",
    "\n",
    "First we import the d3js libraries that we need directly into the HTML code (DOM) of the notebook page:"
   ]
  },
  {
   "cell_type": "code",
   "execution_count": 6,
   "metadata": {
    "collapsed": false
   },
   "outputs": [
    {
     "data": {
      "text/html": [
       "\n",
       "     <script src=\"resources/d3/d3.min.js\"></script>\n",
       "     <script src=\"resources/d3/d3.hive.min.js\"></script>\n"
      ],
      "text/plain": [
       "<IPython.core.display.HTML object>"
      ]
     },
     "execution_count": 6,
     "metadata": {},
     "output_type": "execute_result"
    }
   ],
   "source": [
    "from IPython.display import HTML\n",
    "HTML('''\n",
    "     <script src=\"resources/d3/d3.min.js\"></script>\n",
    "     <script src=\"resources/d3/d3.hive.min.js\"></script>\n",
    "''')"
   ]
  },
  {
   "cell_type": "markdown",
   "metadata": {},
   "source": [
    "Then we create a template that will let iPython take care of all the html chore that we need but do not want to waste time on."
   ]
  },
  {
   "cell_type": "code",
   "execution_count": 7,
   "metadata": {
    "collapsed": false
   },
   "outputs": [],
   "source": [
    "from string import Template\n",
    "html_template = Template('''\n",
    "<style> $css_text </style>\n",
    "<script> $js_text </script>\n",
    "<div id=\"chart\"></div>\n",
    "<div id=\"info_text\"></div>\n",
    "''')"
   ]
  },
  {
   "cell_type": "markdown",
   "metadata": {},
   "source": [
    "So that we can concentrate on what's mildy important, like the CSS styling…"
   ]
  },
  {
   "cell_type": "code",
   "execution_count": 8,
   "metadata": {
    "collapsed": true
   },
   "outputs": [],
   "source": [
    "css_text = '''\n",
    "    .axis {\n",
    "      stroke: #000;\n",
    "      stroke-width: 1.5px;\n",
    "    }\n",
    "\n",
    "    .node circle {\n",
    "      stroke: #000;\n",
    "    }\n",
    "\n",
    "    .link {\n",
    "      fill: none;\n",
    "      stroke: #999;\n",
    "      stroke-width: 1.5px;\n",
    "      stroke-opacity: .3;\n",
    "    }\n",
    "\n",
    "    .link.active {\n",
    "      stroke: red;\n",
    "      stroke-width: 2px;\n",
    "      stroke-opacity: 1;\n",
    "    }\n",
    "\n",
    "    .node circle.active {\n",
    "      stroke: red;\n",
    "      stroke-width: 3px;\n",
    "    }\n",
    "    \n",
    "    #info_text {\n",
    "      height: 100px;\n",
    "    }\n",
    "'''"
   ]
  },
  {
   "cell_type": "markdown",
   "metadata": {},
   "source": [
    "And the real important JavaScript that actually takes in the data, constructs the plot, and adds a little interactivity."
   ]
  },
  {
   "cell_type": "code",
   "execution_count": 9,
   "metadata": {
    "collapsed": true
   },
   "outputs": [],
   "source": [
    "js_text = '''\n",
    "    var width = 970,\n",
    "        height = 800,\n",
    "        innerRadius = 40,\n",
    "        outerRadius = 15000;\n",
    "\n",
    "    number_of_categories = 2\n",
    "\n",
    "    var nodes;\n",
    "    d3.json(\"./resources/visualization_data.json\", function(data) {\n",
    "      nodes = data.nodes;\n",
    "    } );\n",
    "    \n",
    "    var links = [];\n",
    "    var node_index = 0;\n",
    "    var last_text_node_index = nodes.length;\n",
    "    nodes.forEach( function( node ) {\n",
    "        if( node.denotation != null ){\n",
    "            var annotation_index = 0;\n",
    "            node.denotation.annotations.forEach( function( annotation ) {\n",
    "                var annotation_node = { x: 1, y: annotation_index, text: annotation.annotation };\n",
    "                nodes.push( annotation_node );\n",
    "                var link = {source: nodes[node_index], target: nodes[annotation_index + last_text_node_index]};\n",
    "                links.push( link );\n",
    "                annotation_index += 1;\n",
    "            })\n",
    "        }\n",
    "        node_index += 1;\n",
    "    })\n",
    "    // Range\n",
    "    var angle = d3.scale.ordinal().domain(d3.range( number_of_categories ))\n",
    "            .rangePoints([ 0.1 * Math.PI, 0.4 * Math.PI ]),\n",
    "        radius = d3.scale.linear().domain([0,1500]).range([innerRadius, outerRadius]),\n",
    "        color = d3.scale.category10().domain(d3.range(20));\n",
    "    \n",
    "    var svg = d3.select(\"#chart\").append(\"svg\")\n",
    "        .attr(\"width\", width)\n",
    "        .attr(\"height\", height)\n",
    "      .append(\"g\")\n",
    "        .attr(\"transform\", \"translate(\" + width / 100 + \",\" + height + \")\");\n",
    "\n",
    "    svg.selectAll(\".axis\")\n",
    "        .data(d3.range( number_of_categories ) )\n",
    "      .enter().append(\"line\")\n",
    "        .attr(\"class\", \"axis\")\n",
    "        .attr(\"transform\", function(d) { return \"rotate(\" + degrees(angle(d)) + \")\"; })\n",
    "        .attr(\"x1\", radius.range()[0])\n",
    "        .attr(\"x2\", radius.range()[1]);\n",
    "\n",
    "    svg.selectAll(\".link\")\n",
    "        .data(links)\n",
    "      .enter().append(\"path\")\n",
    "        .attr(\"class\", \"link\")\n",
    "        .attr(\"d\", d3.hive.link()\n",
    "        .angle(function(d) { return angle(d.x); })\n",
    "        .radius(function(d) { return radius(d.y+4); }))\n",
    "        .style(\"stroke\", function(d) { return color(d.source.x); })\n",
    "        .on(\"mouseover\", linkMouseover)\n",
    "        .on(\"mouseout\", mouseout);\n",
    "\n",
    "    svg.selectAll(\".node\")\n",
    "        .data(nodes)\n",
    "      .enter().append(\"circle\")\n",
    "        .attr(\"class\", \"node\")\n",
    "        .attr(\"transform\", function(d) { return \"rotate(\" + degrees(angle(d.x)) + \")\"; })\n",
    "        .attr(\"cx\", function(d) { return radius(d.y+4); })\n",
    "        .attr(\"r\", 5)\n",
    "        .style(\"fill\", function(d) { return color(d.x); })\n",
    "        .on(\"mouseover\", nodeMouseover)\n",
    "        .on(\"mouseout\", mouseout);\n",
    "\n",
    "    function degrees(radians) {\n",
    "      return radians / Math.PI * 180 - 90;\n",
    "    }\n",
    "\n",
    "    // Highlight the link and connected nodes on mouseover.\n",
    "    function linkMouseover(d) {\n",
    "      svg.selectAll(\".link\").classed(\"active\", function(p) {\n",
    "        if ( p === d ) { this.style=\"stroke: red\" }\n",
    "        return p === d;\n",
    "      });\n",
    "      svg.selectAll(\".node circle\").classed(\"active\", function(p) {\n",
    "        return p === d.source || p === d.target; \n",
    "      });\n",
    "      info.text(d.source.wrd + \" → \" + d.target.text);\n",
    "    }\n",
    "\n",
    "    // Highlight the node and connected links on mouseover.\n",
    "    function nodeMouseover(d) {\n",
    "      svg.selectAll(\".link\").classed(\"active\", function(p) { \n",
    "        if ( p.source === d || p.target === d ) { this.style=\"stroke: red;\" }\n",
    "        return p.source === d || p.target === d; \n",
    "      });\n",
    "      d3.select(this).classed(\"active\", function(p) {\n",
    "        this.style=\"stroke: red; fill: \" + color(d.x) + \";\";\n",
    "        return true;\n",
    "      });\n",
    "      info.text(d.wrd);\n",
    "    }\n",
    "\n",
    "    // Clear any highlighted nodes or links.\n",
    "    function mouseout(d) {\n",
    "      svg.selectAll(\".active\").classed(\"active\", function(p) {\n",
    "        var style;\n",
    "        if( p.source != null ) {\n",
    "          style = \"stroke: \" + color(p.source.x) + \";\";      \n",
    "        } else {\n",
    "          style = \"stroke: \" + color(p.x) + \"; fill: \" + color(p.x) + \";\";      \n",
    "        }\n",
    "        this.style = style;\n",
    "        return false;\n",
    "      });\n",
    "      info.text(defaultInfo);\n",
    "    }\n",
    "\n",
    "    // Initialize the info display.\n",
    "    var info = d3.select(\"#info_text\")\n",
    "        .text(defaultInfo = \"Move over nodes or links to browse data\");\n",
    "'''"
   ]
  },
  {
   "cell_type": "markdown",
   "metadata": {},
   "source": [
    "And finally we can combine the CSS and JS code with the template, which will add the visualization into the output of the cell below."
   ]
  },
  {
   "cell_type": "code",
   "execution_count": 10,
   "metadata": {
    "collapsed": false
   },
   "outputs": [
    {
     "data": {
      "text/html": [
       "\n",
       "<style> \n",
       "    .axis {\n",
       "      stroke: #000;\n",
       "      stroke-width: 1.5px;\n",
       "    }\n",
       "\n",
       "    .node circle {\n",
       "      stroke: #000;\n",
       "    }\n",
       "\n",
       "    .link {\n",
       "      fill: none;\n",
       "      stroke: #999;\n",
       "      stroke-width: 1.5px;\n",
       "      stroke-opacity: .3;\n",
       "    }\n",
       "\n",
       "    .link.active {\n",
       "      stroke: red;\n",
       "      stroke-width: 2px;\n",
       "      stroke-opacity: 1;\n",
       "    }\n",
       "\n",
       "    .node circle.active {\n",
       "      stroke: red;\n",
       "      stroke-width: 3px;\n",
       "    }\n",
       "    \n",
       "    #info_text {\n",
       "      height: 100px;\n",
       "    }\n",
       " </style>\n",
       "<script> \n",
       "    var width = 970,\n",
       "        height = 800,\n",
       "        innerRadius = 40,\n",
       "        outerRadius = 15000;\n",
       "\n",
       "    number_of_categories = 2\n",
       "\n",
       "    var nodes;\n",
       "    d3.json(\"./resources/visualization_data.json\", function(data) {\n",
       "      nodes = data.nodes;\n",
       "    } );\n",
       "    \n",
       "    var links = [];\n",
       "    var node_index = 0;\n",
       "    var last_text_node_index = nodes.length;\n",
       "    nodes.forEach( function( node ) {\n",
       "        if( node.denotation != null ){\n",
       "            var annotation_index = 0;\n",
       "            node.denotation.annotations.forEach( function( annotation ) {\n",
       "                var annotation_node = { x: 1, y: annotation_index, text: annotation.annotation };\n",
       "                nodes.push( annotation_node );\n",
       "                var link = {source: nodes[node_index], target: nodes[annotation_index + last_text_node_index]};\n",
       "                links.push( link );\n",
       "                annotation_index += 1;\n",
       "            })\n",
       "        }\n",
       "        node_index += 1;\n",
       "    })\n",
       "    // Range\n",
       "    var angle = d3.scale.ordinal().domain(d3.range( number_of_categories ))\n",
       "            .rangePoints([ 0.1 * Math.PI, 0.4 * Math.PI ]),\n",
       "        radius = d3.scale.linear().domain([0,1500]).range([innerRadius, outerRadius]),\n",
       "        color = d3.scale.category10().domain(d3.range(20));\n",
       "    \n",
       "    var svg = d3.select(\"#chart\").append(\"svg\")\n",
       "        .attr(\"width\", width)\n",
       "        .attr(\"height\", height)\n",
       "      .append(\"g\")\n",
       "        .attr(\"transform\", \"translate(\" + width / 100 + \",\" + height + \")\");\n",
       "\n",
       "    svg.selectAll(\".axis\")\n",
       "        .data(d3.range( number_of_categories ) )\n",
       "      .enter().append(\"line\")\n",
       "        .attr(\"class\", \"axis\")\n",
       "        .attr(\"transform\", function(d) { return \"rotate(\" + degrees(angle(d)) + \")\"; })\n",
       "        .attr(\"x1\", radius.range()[0])\n",
       "        .attr(\"x2\", radius.range()[1]);\n",
       "\n",
       "    svg.selectAll(\".link\")\n",
       "        .data(links)\n",
       "      .enter().append(\"path\")\n",
       "        .attr(\"class\", \"link\")\n",
       "        .attr(\"d\", d3.hive.link()\n",
       "        .angle(function(d) { return angle(d.x); })\n",
       "        .radius(function(d) { return radius(d.y+4); }))\n",
       "        .style(\"stroke\", function(d) { return color(d.source.x); })\n",
       "        .on(\"mouseover\", linkMouseover)\n",
       "        .on(\"mouseout\", mouseout);\n",
       "\n",
       "    svg.selectAll(\".node\")\n",
       "        .data(nodes)\n",
       "      .enter().append(\"circle\")\n",
       "        .attr(\"class\", \"node\")\n",
       "        .attr(\"transform\", function(d) { return \"rotate(\" + degrees(angle(d.x)) + \")\"; })\n",
       "        .attr(\"cx\", function(d) { return radius(d.y+4); })\n",
       "        .attr(\"r\", 5)\n",
       "        .style(\"fill\", function(d) { return color(d.x); })\n",
       "        .on(\"mouseover\", nodeMouseover)\n",
       "        .on(\"mouseout\", mouseout);\n",
       "\n",
       "    function degrees(radians) {\n",
       "      return radians / Math.PI * 180 - 90;\n",
       "    }\n",
       "\n",
       "    // Highlight the link and connected nodes on mouseover.\n",
       "    function linkMouseover(d) {\n",
       "      svg.selectAll(\".link\").classed(\"active\", function(p) {\n",
       "        if ( p === d ) { this.style=\"stroke: red\" }\n",
       "        return p === d;\n",
       "      });\n",
       "      svg.selectAll(\".node circle\").classed(\"active\", function(p) {\n",
       "        return p === d.source || p === d.target; \n",
       "      });\n",
       "      info.text(d.source.wrd + \" → \" + d.target.text);\n",
       "    }\n",
       "\n",
       "    // Highlight the node and connected links on mouseover.\n",
       "    function nodeMouseover(d) {\n",
       "      svg.selectAll(\".link\").classed(\"active\", function(p) { \n",
       "        if ( p.source === d || p.target === d ) { this.style=\"stroke: red;\" }\n",
       "        return p.source === d || p.target === d; \n",
       "      });\n",
       "      d3.select(this).classed(\"active\", function(p) {\n",
       "        this.style=\"stroke: red; fill: \" + color(d.x) + \";\";\n",
       "        return true;\n",
       "      });\n",
       "      info.text(d.wrd);\n",
       "    }\n",
       "\n",
       "    // Clear any highlighted nodes or links.\n",
       "    function mouseout(d) {\n",
       "      svg.selectAll(\".active\").classed(\"active\", function(p) {\n",
       "        var style;\n",
       "        if( p.source != null ) {\n",
       "          style = \"stroke: \" + color(p.source.x) + \";\";      \n",
       "        } else {\n",
       "          style = \"stroke: \" + color(p.x) + \"; fill: \" + color(p.x) + \";\";      \n",
       "        }\n",
       "        this.style = style;\n",
       "        return false;\n",
       "      });\n",
       "      info.text(defaultInfo);\n",
       "    }\n",
       "\n",
       "    // Initialize the info display.\n",
       "    var info = d3.select(\"#info_text\")\n",
       "        .text(defaultInfo = \"Move over nodes or links to browse data\");\n",
       " </script>\n",
       "<div id=\"chart\"></div>\n",
       "<div id=\"info_text\"></div>\n"
      ],
      "text/plain": [
       "<IPython.core.display.HTML object>"
      ]
     },
     "execution_count": 10,
     "metadata": {},
     "output_type": "execute_result"
    }
   ],
   "source": [
    "HTML(html_template.substitute({'css_text': css_text, 'js_text': js_text}))"
   ]
  },
  {
   "cell_type": "markdown",
   "metadata": {},
   "source": [
    "### Discussing the Visualization\n",
    "\n",
    "What do we see? Basically the chart plots the words of the text (blue) and the annotations made on the text (orange). It also expresses by connectors which annotations are connected to which words. Moving over the dots and connectors reveals some information tied to the nodes and edges. Because I have so far only annotated the first word we end up with a fairly simple chart obviously. When the network of add sources (each source would add an axis) grows and the net of annotations thickens, the plot will become more interesting to view. \n",
    "\n",
    "Again however, I would stress that this is just one of a million interfaces/visualizations we could put over or on the object model that I have been starting on in [chapter 4](/notebooks/04%20%20Towards%20the%20OO%20Text.ipynb). I picked this visualization because of its aesthetics mostly, and because it seems to be a good choice to gain some overview of complex networks. However, does it reveal anything scholarly useful about the object of the scholarly knowledge and activity that went into creating those? I am unsure, but the hybrid computer literacy that underlies or instance [chapter 4](/notebooks/04%20%20Towards%20the%20OO%20Text.ipynb) seems to me to be much more revealing of such. Including, to be fair, the little power we can still wield hermeneutically with such code in New Literacy. More practice and experimenting is needed to develop and understand the make up and mechanism of this New Literacy."
   ]
  },
  {
   "cell_type": "markdown",
   "metadata": {
    "collapsed": true
   },
   "source": [
    "### References\n",
    "<small>\n",
    "\n",
    "<a href=\"#backref_bibref_001\" name=\"bibref_001\" id=\"bibref_001\">Zundert van, J.J., 2016.</a> The Case of the Bold Button: Social Shaping of Technology and the Digital Scholarly Edition. Digital Scholarship in the Humanities. Available at: http://dsh.oxfordjournals.org/content/early/2016/03/06/llc.fqw012 [Accessed June 8, 2016].\n",
    "\n",
    "<a href=\"#backref_bibref_002\" name=\"bibref_002\" id=\"bibref_002\">Zundert van, J. &amp; Andrews, T.L., 2016.</a> Apparatus vs. Graph: New Models and Interfaces for Text. In F. Hadler &amp; J. Haupt, eds. *Interface Critique*. Kaleidogramme. Berlin: Kulturverlag Kadmos.\n",
    "\n",
    "<a href=\"#backref_bibref_003\" name=\"bibref_003\" id=\"bibref_003\">Krzywinski, M. et al., 2012.</a> Hive plots—rational approach to visualizing networks. 2012; 13:627-644. Briefings in Bioinformatics, 13(5), pp.627–644.\n",
    "\n",
    "</small>"
   ]
  },
  {
   "cell_type": "code",
   "execution_count": null,
   "metadata": {
    "collapsed": true
   },
   "outputs": [],
   "source": []
  }
 ],
 "metadata": {
  "kernelspec": {
   "display_name": "Python 3",
   "language": "python",
   "name": "python3"
  },
  "language_info": {
   "codemirror_mode": {
    "name": "ipython",
    "version": 3
   },
   "file_extension": ".py",
   "mimetype": "text/x-python",
   "name": "python",
   "nbconvert_exporter": "python",
   "pygments_lexer": "ipython3",
   "version": "3.5.1"
  }
 },
 "nbformat": 4,
 "nbformat_minor": 0
}
